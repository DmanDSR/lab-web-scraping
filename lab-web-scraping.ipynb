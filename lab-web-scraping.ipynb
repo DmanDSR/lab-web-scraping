{
 "cells": [
  {
   "cell_type": "markdown",
   "id": "7e7a1ab8-2599-417d-9a65-25ef07f3a786",
   "metadata": {
    "id": "7e7a1ab8-2599-417d-9a65-25ef07f3a786"
   },
   "source": [
    "# Lab | Web Scraping"
   ]
  },
  {
   "cell_type": "markdown",
   "id": "ce8882fc-4815-4567-92fa-b4816358ba7d",
   "metadata": {
    "id": "ce8882fc-4815-4567-92fa-b4816358ba7d"
   },
   "source": [
    "Welcome to the IMDb Web Scraping Adventure Lab!\n",
    "\n",
    "**Objective**\n",
    "\n",
    "In this lab, we will embark on a mission to unearth valuable insights from the vast sea of data available on IMDb, one of the largest online databases of movie, TV, and celebrity information. As budding data scientists and business analysts, you have been tasked to scrape a specific subset of data from IMDb to assist film production companies in understanding the landscape of highly-rated movies in a defined time period. Your insights will potentially influence the making of the next netflix movie!\n",
    "\n",
    "**Background**\n",
    "\n",
    "In a world where data has become the new currency, businesses are leveraging big data to make informed decisions that drive success and profitability. The entertainment industry, being no exception, utilizes data analytics to comprehend market trends, audience preferences, and the performance of films based on various parameters such as director, genre, stars involved, etc. IMDb stands as a goldmine of such data, offering intricate details of almost every movie ever made.\n",
    "\n",
    "**Task**\n",
    "\n",
    "Your task is to create a Python script using `BeautifulSoup` and `pandas` to scrape IMDb movie data based on user ratings and release dates. This script should be able to filter movies with ratings above a certain threshold and within a specified date range.\n",
    "\n",
    "**Expected Outcome**\n",
    "\n",
    "- A function named `scrape_imdb` that takes four parameters: `title_type`,`user_rating`, `start_date`, and `end_date`.\n",
    "- The function should return a DataFrame with the following columns:\n",
    "  - **Movie Nr**: The number representing the movie’s position in the list.\n",
    "  - **Title**: The title of the movie.\n",
    "  - **Year**: The year the movie was released.\n",
    "  - **Rating**: The IMDb rating of the movie.\n",
    "  - **Runtime (min)**: The duration of the movie in minutes.\n",
    "  - **Genre**: The genre of the movie.\n",
    "  - **Description**: A brief description of the movie.\n",
    "  - **Director**: The director of the movie.\n",
    "  - **Stars**: The main stars of the movie.\n",
    "  - **Votes**: The number of votes the movie received.\n",
    "  - **Gross ($M)**: The gross earnings of the movie in millions of USD.\n",
    "\n",
    "You will execute this script to scrape data for movies with the Title Type `Feature Film` that have a user rating of `7.5 and above` and were released between `January 1, 1990, and December 31, 1992`.\n",
    "\n",
    "Remember to experiment with different title types, dates and ratings to ensure your code is versatile and can handle various searches effectively!\n",
    "\n",
    "**Resources**\n",
    "\n",
    "- [Beautiful Soup Documentation](https://www.crummy.com/software/BeautifulSoup/bs4/doc/)\n",
    "- [Pandas Documentation](https://pandas.pydata.org/pandas-docs/stable/index.html)\n",
    "- [IMDb Advanced Search](https://www.imdb.com/search/title/)\n"
   ]
  },
  {
   "cell_type": "markdown",
   "id": "3519921d-5890-445b-9a33-934ed8ee378c",
   "metadata": {
    "id": "3519921d-5890-445b-9a33-934ed8ee378c"
   },
   "source": [
    "**Hint**\n",
    "\n",
    "Your first mission is to familiarize yourself with the IMDb advanced search page. Head over to [IMDb advanced search](https://www.imdb.com/search/title/) and input the following parameters, keeping all other fields to their default values or blank:\n",
    "\n",
    "- **Title Type**: Feature film\n",
    "- **Release date**: From 1990 to 1992 (Note: You don't need to specify the day and month)\n",
    "- **User Rating**: 7.5 to -\n",
    "\n",
    "Upon searching, you'll land on a page showcasing a list of movies, each displaying vital details such as the title, release year, and crew information. Your task is to scrape this treasure trove of data.\n",
    "\n",
    "Carefully examine the resulting URL and construct your own URL to include all the necessary parameters for filtering the movies."
   ]
  },
  {
   "cell_type": "markdown",
   "id": "25a83a0d-a742-49f6-985e-e27887cbf922",
   "metadata": {
    "id": "25a83a0d-a742-49f6-985e-e27887cbf922"
   },
   "source": [
    "\n",
    "---\n",
    "\n",
    "**Best of luck! Immerse yourself in the world of movies and may the data be with you!**"
   ]
  },
  {
   "cell_type": "markdown",
   "id": "7b75cf0d-9afa-4eec-a9e2-befeac68b2a0",
   "metadata": {
    "id": "7b75cf0d-9afa-4eec-a9e2-befeac68b2a0"
   },
   "source": [
    "**Important note**:\n",
    "\n",
    "In the fast-changing online world, websites often get updates and make changes. When you try this lab, the IMDb website might be different from what we expect.\n",
    "\n",
    "If you run into problems because of these changes, like new rules or things that stop you from getting data, don't worry! Instead, get creative.\n",
    "\n",
    "You can choose another website that interests you and is good for scraping data. Websites like Wikipedia or The New York Times are good options. The main goal is still the same: get useful data and learn how to scrape it from a website that you find interesting. It's a chance to practice your web scraping skills and explore a source of information you like."
   ]
  },
  {
   "cell_type": "code",
   "execution_count": 3,
   "id": "40359eee-9cd7-4884-bfa4-83344c222305",
   "metadata": {
    "id": "40359eee-9cd7-4884-bfa4-83344c222305"
   },
   "outputs": [],
   "source": [
    "import requests\n",
    "from bs4 import BeautifulSoup\n",
    "import pandas as pd\n",
    "\n"
   ]
  },
  {
   "cell_type": "code",
   "execution_count": 4,
   "id": "75e5a536",
   "metadata": {},
   "outputs": [],
   "source": [
    "def scrape_imdb(title_type, user_rating, start_date, end_date):\n",
    "    # Construct the IMDb advanced search URL\n",
    "    url = f\"https://www.imdb.com/search/title/?title_type={title_type}&release_date={start_date},{end_date}&user_rating={user_rating},&count=250\"\n",
    "    \n",
    "    # Send a GET request to the URL\n",
    "    response = requests.get(url)\n",
    "    \n",
    "    # Parse the HTML content using BeautifulSoup\n",
    "    soup = BeautifulSoup(response.content, 'html.parser')\n",
    "    \n",
    "    # Find all movie items on the page\n",
    "    movie_items = soup.find_all('div', class_='lister-item')\n",
    "    \n",
    "    # Create a list to store the movie data\n",
    "    movie_data = []\n",
    "    \n",
    "    # Iterate over each movie item\n",
    "    for item in movie_items:\n",
    "        # Extract the movie title\n",
    "        title = item.find('h3', class_='lister-item-header').a.text\n",
    "        \n",
    "        # Extract the release year\n",
    "        year = item.find('span', class_='lister-item-year').text.strip('()')\n",
    "        \n",
    "        # Extract the IMDb rating\n",
    "        rating = item.find('strong').text\n",
    "        \n",
    "        # Extract the runtime\n",
    "        runtime = item.find('span', class_='runtime').text.strip(' min')\n",
    "        \n",
    "        # Extract the genre\n",
    "        genre = item.find('span', class_='genre').text.strip()\n",
    "        \n",
    "        # Extract the description\n",
    "        description = item.find('p', class_='text-muted').text.strip()\n",
    "        \n",
    "        # Extract the director\n",
    "        director = item.find('p', class_='').a.text\n",
    "        \n",
    "        # Extract the stars\n",
    "        stars = [a.text for a in item.find_all('p', class_='')[1].find_all('a')]\n",
    "        \n",
    "        # Extract the votes\n",
    "        votes = item.find('span', class_='nv').text.strip('Votes:')\n",
    "        \n",
    "        # Extract the gross earnings\n",
    "        gross = item.find('span', class_='ghost').text.strip('Gross:')\n",
    "        \n",
    "        # Create a dictionary to store the movie data\n",
    "        movie_dict = {\n",
    "            'Movie Nr': len(movie_data) + 1,\n",
    "            'Title': title,\n",
    "            'Year': year,\n",
    "            'Rating': rating,\n",
    "            'Runtime (min)': runtime,\n",
    "            'Genre': genre,\n",
    "            'Description': description,\n",
    "            'Director': director,\n",
    "            'Stars': ', '.join(stars),\n",
    "            'Votes': votes,\n",
    "            'Gross ($M)': gross\n",
    "        }\n",
    "        \n",
    "        # Add the movie data to the list\n",
    "        movie_data.append(movie_dict)\n",
    "    \n",
    "    # Create a pandas DataFrame from the movie data\n",
    "    df = pd.DataFrame(movie_data)\n",
    "    \n",
    "    return df"
   ]
  },
  {
   "cell_type": "code",
   "execution_count": 7,
   "id": "08f23a3b",
   "metadata": {},
   "outputs": [
    {
     "name": "stdout",
     "output_type": "stream",
     "text": [
      "Empty DataFrame\n",
      "Columns: []\n",
      "Index: []\n"
     ]
    }
   ],
   "source": [
    "\n",
    "# Execute the script to scrape data for movies with the Title Type Feature Film\n",
    "# that have a user rating of 7.5 and above and were released between January 1, 1990, and December 31, 1992\n",
    "df = scrape_imdb('Feature', '5', '2020-01-01', '2021-12-31')\n",
    "\n",
    "# Print the resulting DataFrame\n",
    "print(df)"
   ]
  },
  {
   "cell_type": "markdown",
   "id": "9ab1217a-df9d-4a2b-a32c-2c5f1eecd52a",
   "metadata": {
    "id": "9ab1217a-df9d-4a2b-a32c-2c5f1eecd52a"
   },
   "source": [
    "## BONUS\n",
    "\n",
    "The search results span multiple pages, housing a total of 631 movies in our example with each page displaying 50 movies at most. To scrape data seamlessly from all pages, you'll need to dive deep into the structure of the URLs generated with each \"Next\" click.\n",
    "\n",
    "Take a close look at the following URLs:\n",
    "- First page:\n",
    "  ```\n",
    "  https://www.imdb.com/search/title/?title_type=feature&release_date=1990-01-01,1992-12-31&user_rating=7.5,\n",
    "  ```\n",
    "- Second page:\n",
    "  ```\n",
    "  https://www.imdb.com/search/title/?title_type=feature&release_date=1990-01-01,1992-12-31&user_rating=7.5,&start=51&ref_=adv_nxt\n",
    "  ```\n",
    "- Third page:\n",
    "  ```\n",
    "  https://www.imdb.com/search/title/?title_type=feature&release_date=1990-01-01,1992-12-31&user_rating=7.5,&start=101&ref_=adv_nxt\n",
    "  ```\n",
    "\n",
    "You should notice a pattern. There is a `start` parameter incrementing by 50 with each page, paired with a constant `ref_` parameter holding the value \"adv_nxt\".\n",
    "\n",
    "Modify your script so it's capable of iterating over all available pages to fetch data on all the 631 movies (631 is the total number of movies in the proposed example)."
   ]
  },
  {
   "cell_type": "code",
   "execution_count": null,
   "id": "21ac4fc0-a12b-4a00-9266-2020166f0dea",
   "metadata": {
    "id": "21ac4fc0-a12b-4a00-9266-2020166f0dea"
   },
   "outputs": [],
   "source": [
    "# Your solution goes here"
   ]
  }
 ],
 "metadata": {
  "colab": {
   "provenance": []
  },
  "kernelspec": {
   "display_name": "Python 3 (ipykernel)",
   "language": "python",
   "name": "python3"
  },
  "language_info": {
   "codemirror_mode": {
    "name": "ipython",
    "version": 3
   },
   "file_extension": ".py",
   "mimetype": "text/x-python",
   "name": "python",
   "nbconvert_exporter": "python",
   "pygments_lexer": "ipython3",
   "version": "3.11.7"
  }
 },
 "nbformat": 4,
 "nbformat_minor": 5
}
